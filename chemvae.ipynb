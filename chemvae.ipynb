{
 "cells": [
  {
   "cell_type": "markdown",
   "metadata": {},
   "source": [
    "# Creating VAE in keras to generate molecules"
   ]
  },
  {
   "cell_type": "code",
   "execution_count": 1,
   "metadata": {},
   "outputs": [
    {
     "name": "stderr",
     "output_type": "stream",
     "text": [
      "Using TensorFlow backend.\n"
     ]
    }
   ],
   "source": [
    "import tensorflow as tf\n",
    "import numpy as np\n",
    "from keras import backend as K\n",
    "from keras.layers import Input, Dense, LSTM, Lambda, Reshape\n",
    "from keras.models import Model\n",
    "from keras import objectives\n",
    "from keras.layers.core import RepeatVector\n",
    "from keras.losses import MSE\n",
    "\n",
    "lstm_dim = 64\n",
    "max_smiles_len = 100\n",
    "latent_dim = 64\n",
    "batch_size = 10\n",
    "\n",
    "SMILES_CHARS = [' ',\n",
    "                  '#', '%', '(', ')', '+', '-', '.', '/',\n",
    "                  '0', '1', '2', '3', '4', '5', '6', '7', '8', '9',\n",
    "                  '=', '@',\n",
    "                  'A', 'B', 'C', 'F', 'H', 'I', 'K', 'L', 'M', 'N', 'O', 'P',\n",
    "                  'R', 'S', 'T', 'V', 'X', 'Z',\n",
    "                  '[', '\\\\', ']',\n",
    "                  'a', 'b', 'c', 'e', 'g', 'i', 'l', 'n', 'o', 'p', 'r', 's',\n",
    "                  't', 'u','\\n']\n",
    "\n",
    "input_dim = (max_smiles_len, len(SMILES_CHARS))\n",
    "output_dim = (max_smiles_len, len(SMILES_CHARS))\n",
    "\n",
    "\n",
    "smi2index = dict((c, i) for i, c in enumerate(SMILES_CHARS))\n",
    "index2smi = dict((i, c) for i, c in enumerate(SMILES_CHARS))"
   ]
  },
  {
   "cell_type": "code",
   "execution_count": 130,
   "metadata": {},
   "outputs": [],
   "source": [
    "with open('smallsmiles.txt') as f:\n",
    "    small_smiles_as_list = f.readlines()\n",
    "    \n",
    "with open('smiles.txt') as f:\n",
    "    full_smiles_as_list = f.readlines()\n",
    "\n",
    "def smiles_to_onehot(smiles, max_len = 100):\n",
    "    onehot = np.zeros((max_len, len(SMILES_CHARS)))\n",
    "    for i, c in enumerate(smiles):\n",
    "        onehot[i, smi2index[c]] = 1\n",
    "    return onehot\n",
    "\n",
    "\n",
    "def smiles_decoder(onehot):\n",
    "    smi = ''\n",
    "    onehot = onehot.argmax( axis=-1 )\n",
    "    for i in onehot:\n",
    "        smi += index2smi[i]\n",
    "    return smi\n",
    "\n",
    "decoded_rnn_size = 64\n",
    "encoded_rnn_size = 64\n",
    "batch_size = 1\n"
   ]
  },
  {
   "cell_type": "markdown",
   "metadata": {},
   "source": [
    "## Model of the encoder"
   ]
  },
  {
   "cell_type": "code",
   "execution_count": 3,
   "metadata": {},
   "outputs": [],
   "source": [
    "def sampling(args):\n",
    "    z_mean, z_log_var = args\n",
    "    batch = K.shape(z_mean)[0]\n",
    "    dim = K.int_shape(z_mean)[1]\n",
    "    epsilon = K.random_normal(shape=(batch, dim))\n",
    "    return z_mean + K.exp(0.5 * z_log_var) * epsilon"
   ]
  },
  {
   "cell_type": "code",
   "execution_count": 159,
   "metadata": {},
   "outputs": [],
   "source": [
    "x_input = Input(shape=input_dim)\n",
    "lstm = LSTM(latent_dim, activation='relu')(x_input)\n",
    "z_mean = Dense(latent_dim)(lstm)\n",
    "z_var = Dense(latent_dim)(lstm)\n",
    "# z = Lambda(lambda m: m[0] + m[1] * tf.random.normal(tf.shape(m[0])))([zmean, zvar])\n",
    "\n",
    "z = Lambda(sampling, output_shape=(latent_dim,), name='z')([z_mean, z_var])\n",
    "encoder = Model(x_input, z)"
   ]
  },
  {
   "cell_type": "markdown",
   "metadata": {},
   "source": [
    "## Model of the decoder"
   ]
  },
  {
   "cell_type": "code",
   "execution_count": 160,
   "metadata": {},
   "outputs": [],
   "source": [
    "latent_inputs = Input(shape=(latent_dim,), name='z_sampling')\n",
    "repeated = RepeatVector(100)(latent_inputs)\n",
    "x_2 = LSTM(57, activation='relu', return_sequences=True)(repeated)\n",
    "decoder = Model(latent_inputs, x_2)"
   ]
  },
  {
   "cell_type": "markdown",
   "metadata": {},
   "source": [
    "### Training data"
   ]
  },
  {
   "cell_type": "markdown",
   "metadata": {},
   "source": [
    "### shape(56, 100, 57)"
   ]
  },
  {
   "cell_type": "code",
   "execution_count": 12,
   "metadata": {},
   "outputs": [
    {
     "data": {
      "text/plain": [
       "(56, 100, 57)"
      ]
     },
     "execution_count": 12,
     "metadata": {},
     "output_type": "execute_result"
    }
   ],
   "source": [
    "X = [smiles_to_onehot(x) for x in small_smiles_as_list]\n",
    "X = np.array(X)\n",
    "X.shape"
   ]
  },
  {
   "cell_type": "markdown",
   "metadata": {},
   "source": [
    "### shape(115936, 100, 57)"
   ]
  },
  {
   "cell_type": "code",
   "execution_count": 6,
   "metadata": {},
   "outputs": [
    {
     "data": {
      "text/plain": [
       "(115936, 100, 57)"
      ]
     },
     "execution_count": 6,
     "metadata": {},
     "output_type": "execute_result"
    }
   ],
   "source": [
    "X_all = [smiles_to_onehot(x) for x in full_smiles_as_list]\n",
    "X_all = np.array(X_all)\n",
    "X_all.shape"
   ]
  },
  {
   "cell_type": "code",
   "execution_count": 7,
   "metadata": {},
   "outputs": [
    {
     "data": {
      "text/plain": [
       "(10000, 100, 57)"
      ]
     },
     "execution_count": 7,
     "metadata": {},
     "output_type": "execute_result"
    }
   ],
   "source": [
    "X = X_all[:10000]\n",
    "X.shape"
   ]
  },
  {
   "cell_type": "markdown",
   "metadata": {},
   "source": [
    "### Loss functions"
   ]
  },
  {
   "cell_type": "code",
   "execution_count": 136,
   "metadata": {},
   "outputs": [],
   "source": [
    "def calculate_loss(x, x_decoded):\n",
    "    recon = K.binary_crossentropy(x, x_decoded)#,from_logits=True)\n",
    "    kl = 0.5 * K.sum(K.exp(z_var) + K.square(z_mean) - 1. - z_var)\n",
    "    \n",
    "    #xent_loss = objectives.mse(x, x_decoded)\n",
    "    #kl_loss = - 0.5 * K.mean(1 + z_var - K.square(z_mean) - K.exp(z_var))\n",
    "    #loss = xent_loss + kl_loss\n",
    "    \n",
    "    return recon + kl"
   ]
  },
  {
   "cell_type": "code",
   "execution_count": 9,
   "metadata": {},
   "outputs": [],
   "source": [
    "def z_loss(x, x_new):\n",
    "    #xent_loss = objectives.mse(x, x_new)\n",
    "    kl_loss = - 0.5 * K.mean(1 + z_var - K.square(z_mean) - K.exp(z_var))\n",
    "    # loss = kl_loss + xent_loss\n",
    "    return kl_loss"
   ]
  },
  {
   "cell_type": "markdown",
   "metadata": {},
   "source": [
    "## Testing the decoder"
   ]
  },
  {
   "cell_type": "code",
   "execution_count": 104,
   "metadata": {},
   "outputs": [],
   "source": [
    "decoder.compile(loss=MSE, optimizer='adam')"
   ]
  },
  {
   "cell_type": "code",
   "execution_count": 105,
   "metadata": {
    "scrolled": false
   },
   "outputs": [
    {
     "name": "stdout",
     "output_type": "stream",
     "text": [
      "Epoch 1/6\n",
      "56/56 [==============================] - 1s 12ms/step - loss: 0.0070\n",
      "Epoch 2/6\n",
      "56/56 [==============================] - 0s 4ms/step - loss: 0.0070\n",
      "Epoch 3/6\n",
      "56/56 [==============================] - 0s 4ms/step - loss: 0.0070\n",
      "Epoch 4/6\n",
      "56/56 [==============================] - 0s 4ms/step - loss: 0.0070\n",
      "Epoch 5/6\n",
      "56/56 [==============================] - 0s 4ms/step - loss: 0.0070\n",
      "Epoch 6/6\n",
      "56/56 [==============================] - 0s 4ms/step - loss: 0.0070\n"
     ]
    },
    {
     "data": {
      "text/plain": [
       "<keras.callbacks.callbacks.History at 0x260d3f1eef0>"
      ]
     },
     "execution_count": 105,
     "metadata": {},
     "output_type": "execute_result"
    }
   ],
   "source": [
    "decoder.fit(Y, X, epochs=6, batch_size=10)"
   ]
  },
  {
   "cell_type": "code",
   "execution_count": 114,
   "metadata": {},
   "outputs": [],
   "source": [
    "test_input = np.zeros((3,64))"
   ]
  },
  {
   "cell_type": "code",
   "execution_count": 115,
   "metadata": {
    "scrolled": true
   },
   "outputs": [],
   "source": [
    "result = decoder.predict(test_input)"
   ]
  },
  {
   "cell_type": "code",
   "execution_count": 116,
   "metadata": {
    "scrolled": true
   },
   "outputs": [
    {
     "data": {
      "text/plain": [
       "(3, 100, 57)"
      ]
     },
     "execution_count": 116,
     "metadata": {},
     "output_type": "execute_result"
    }
   ],
   "source": [
    "result.shape"
   ]
  },
  {
   "cell_type": "markdown",
   "metadata": {},
   "source": [
    "## Testing the encoder"
   ]
  },
  {
   "cell_type": "code",
   "execution_count": 23,
   "metadata": {
    "scrolled": true
   },
   "outputs": [],
   "source": [
    "encoder.compile(loss=z_loss, optimizer='adam')"
   ]
  },
  {
   "cell_type": "code",
   "execution_count": 24,
   "metadata": {
    "scrolled": false
   },
   "outputs": [
    {
     "name": "stdout",
     "output_type": "stream",
     "text": [
      "Epoch 1/10\n",
      "56/56 [==============================] - 1s 11ms/step - loss: 12.5941\n",
      "Epoch 2/10\n",
      "56/56 [==============================] - 0s 4ms/step - loss: 0.0358\n",
      "Epoch 3/10\n",
      "56/56 [==============================] - 0s 4ms/step - loss: 0.0455\n",
      "Epoch 4/10\n",
      "56/56 [==============================] - 0s 4ms/step - loss: 0.0484\n",
      "Epoch 5/10\n",
      "56/56 [==============================] - 0s 4ms/step - loss: 0.0487\n",
      "Epoch 6/10\n",
      "56/56 [==============================] - 0s 4ms/step - loss: 0.0480\n",
      "Epoch 7/10\n",
      "56/56 [==============================] - 0s 4ms/step - loss: 0.0466\n",
      "Epoch 8/10\n",
      "56/56 [==============================] - 0s 4ms/step - loss: 0.0451\n",
      "Epoch 9/10\n",
      "56/56 [==============================] - 0s 4ms/step - loss: 0.0434\n",
      "Epoch 10/10\n",
      "56/56 [==============================] - 0s 4ms/step - loss: 0.0418\n"
     ]
    },
    {
     "data": {
      "text/plain": [
       "<keras.callbacks.callbacks.History at 0x1f05a0a6be0>"
      ]
     },
     "execution_count": 24,
     "metadata": {},
     "output_type": "execute_result"
    }
   ],
   "source": [
    "encoder.fit(X, X, epochs=10, batch_size=10)"
   ]
  },
  {
   "cell_type": "code",
   "execution_count": 26,
   "metadata": {},
   "outputs": [],
   "source": [
    "X1 = X[0:1]\n",
    "X1 = np.reshape(X1, (1,100,57))"
   ]
  },
  {
   "cell_type": "code",
   "execution_count": 27,
   "metadata": {
    "scrolled": false
   },
   "outputs": [
    {
     "data": {
      "text/plain": [
       "array([[-8.1301773e-01, -2.6299402e-01, -9.8160648e-01, -1.2278748e+00,\n",
       "        -1.1572304e+00, -1.5604430e+00, -1.3140545e+00, -7.6917696e-01,\n",
       "        -2.4372327e+00,  1.0624061e+00, -3.0992565e-01,  8.3419043e-01,\n",
       "         5.6062818e-01, -1.3172098e-01, -9.5717466e-01, -2.1324940e+00,\n",
       "         5.0561869e-01,  2.7011657e-01,  5.0852150e-01, -1.7143270e+00,\n",
       "         8.7156326e-01,  7.9136580e-01,  2.8402200e-01,  1.1757556e+00,\n",
       "        -6.0712612e-01,  2.3732959e-01,  1.5342817e+00,  8.8119239e-01,\n",
       "         1.3047813e+00, -7.7862233e-01, -1.4512120e-03,  1.3836908e-01,\n",
       "        -1.2058165e+00, -1.8850985e+00, -7.6009864e-01, -1.7057220e+00,\n",
       "        -1.0867665e+00, -1.8097383e+00,  1.2657901e+00, -2.4245261e-01,\n",
       "         1.1391633e+00,  5.5728078e-01, -1.2521151e-01,  3.1110209e-01,\n",
       "         1.3163338e+00,  2.4253933e+00,  1.1826134e+00,  1.9561082e+00,\n",
       "         9.5373905e-01, -4.7003338e-01,  1.5187393e+00, -1.9416742e-01,\n",
       "        -3.8858828e-01,  3.5764900e-01, -8.0885172e-01,  1.9086223e+00,\n",
       "        -1.6275990e+00, -2.9471168e-01,  2.0323863e+00,  4.6870928e-02,\n",
       "         2.3210883e-01,  1.2727907e+00,  2.7060246e-01, -1.9542056e+00]],\n",
       "      dtype=float32)"
      ]
     },
     "execution_count": 27,
     "metadata": {},
     "output_type": "execute_result"
    }
   ],
   "source": [
    "vec = encoder.predict(X1)\n",
    "vec"
   ]
  },
  {
   "cell_type": "markdown",
   "metadata": {},
   "source": [
    "##  Compile VAE"
   ]
  },
  {
   "cell_type": "code",
   "execution_count": 161,
   "metadata": {},
   "outputs": [],
   "source": [
    "decoder = Model(latent_inputs, x_2)\n",
    "encoder = Model(x_input, z)"
   ]
  },
  {
   "cell_type": "code",
   "execution_count": 162,
   "metadata": {},
   "outputs": [],
   "source": [
    "outputs = decoder(encoder(x_input))"
   ]
  },
  {
   "cell_type": "code",
   "execution_count": 163,
   "metadata": {},
   "outputs": [],
   "source": [
    "vae = Model(x_input,outputs)"
   ]
  },
  {
   "cell_type": "code",
   "execution_count": 164,
   "metadata": {},
   "outputs": [],
   "source": [
    "vae.compile(loss=calculate_loss, optimizer='adam')"
   ]
  },
  {
   "cell_type": "code",
   "execution_count": 165,
   "metadata": {},
   "outputs": [
    {
     "name": "stdout",
     "output_type": "stream",
     "text": [
      "Train on 8000 samples, validate on 2000 samples\n",
      "Epoch 1/3\n",
      "8000/8000 [==============================] - 48s 6ms/step - loss: 2.1138 - val_loss: 2.3403\n",
      "Epoch 2/3\n",
      "8000/8000 [==============================] - 49s 6ms/step - loss: 2.2349 - val_loss: 2.1773\n",
      "Epoch 3/3\n",
      "8000/8000 [==============================] - 49s 6ms/step - loss: 2.1262 - val_loss: 2.1308\n"
     ]
    },
    {
     "data": {
      "text/plain": [
       "<keras.callbacks.callbacks.History at 0x15f0d91ffd0>"
      ]
     },
     "execution_count": 165,
     "metadata": {},
     "output_type": "execute_result"
    }
   ],
   "source": [
    "vae.fit(X,X, epochs=3, batch_size=60, validation_split=0.2)"
   ]
  },
  {
   "cell_type": "code",
   "execution_count": 26,
   "metadata": {},
   "outputs": [
    {
     "name": "stdout",
     "output_type": "stream",
     "text": [
      "Model: \"model_11\"\n",
      "_________________________________________________________________\n",
      "Layer (type)                 Output Shape              Param #   \n",
      "=================================================================\n",
      "input_1 (InputLayer)         (None, 100, 57)           0         \n",
      "_________________________________________________________________\n",
      "model_10 (Model)             (None, 64)                39552     \n",
      "_________________________________________________________________\n",
      "model_9 (Model)              (None, 100, 57)           27816     \n",
      "=================================================================\n",
      "Total params: 67,368\n",
      "Trainable params: 67,368\n",
      "Non-trainable params: 0\n",
      "_________________________________________________________________\n"
     ]
    }
   ],
   "source": [
    "vae.summary()"
   ]
  },
  {
   "cell_type": "code",
   "execution_count": 144,
   "metadata": {},
   "outputs": [],
   "source": [
    "X1 = X[0:3]\n",
    "X1 = np.reshape(X1, (3,100,57))"
   ]
  },
  {
   "cell_type": "code",
   "execution_count": 145,
   "metadata": {},
   "outputs": [],
   "source": [
    "predicted = vae.predict(X1)"
   ]
  },
  {
   "cell_type": "code",
   "execution_count": 146,
   "metadata": {},
   "outputs": [
    {
     "name": "stdout",
     "output_type": "stream",
     "text": [
      "HHiiiiiiiiiiiiiiiiiiiiiiiiiiiiiiiiiiiiiiiiiiiiiiiiiiiiiiiiiiiiiiiiiiiiiiiiiiiiiiiiiiiiiiiiiiiiiiiiii\n",
      "111SSSSSuuuuuuuuFFFFFFFFFFFFFFFFFFFFFFFFFFFFFFFFFFFFFFFFFFFFFFFFFFFFFFFFFFFFFFFFFFFFFFFFFFFFFFFFFFFF\n",
      "---55555555555555555555555555555555555555555555FFFFFFFFFFFFFFFFFFFFFFFFFFFFFFFFFFFFFFFFFFFFFFFFFFFFF\n"
     ]
    }
   ],
   "source": [
    "for ind in np.arange(0,predicted.shape[0]):\n",
    "    print(smiles_decoder(predicted[ind]))"
   ]
  },
  {
   "cell_type": "code",
   "execution_count": 147,
   "metadata": {},
   "outputs": [
    {
     "data": {
      "text/plain": [
       "['C[C@@]1(C(=O)C=C(O1)C(=O)[O-])c2ccccc2\\n',\n",
       " 'c1ccc(cc1)C(c2ccccc2)[S@](=O)CC(=O)NO\\n',\n",
       " 'CCC[S@](=O)c1ccc2c(c1)[nH]/c(=N\\\\C(=O)OC)/[nH]2\\n']"
      ]
     },
     "execution_count": 147,
     "metadata": {},
     "output_type": "execute_result"
    }
   ],
   "source": [
    "full_smiles_as_list[0:3]"
   ]
  },
  {
   "cell_type": "code",
   "execution_count": null,
   "metadata": {},
   "outputs": [],
   "source": []
  }
 ],
 "metadata": {
  "kernelspec": {
   "display_name": "Python 3",
   "language": "python",
   "name": "python3"
  },
  "language_info": {
   "codemirror_mode": {
    "name": "ipython",
    "version": 3
   },
   "file_extension": ".py",
   "mimetype": "text/x-python",
   "name": "python",
   "nbconvert_exporter": "python",
   "pygments_lexer": "ipython3",
   "version": "3.7.3"
  }
 },
 "nbformat": 4,
 "nbformat_minor": 2
}
